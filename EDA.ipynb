{
 "cells": [
  {
   "cell_type": "code",
   "execution_count": 1,
   "id": "f859e1fb",
   "metadata": {},
   "outputs": [],
   "source": [
    "import pandas as pd\n",
    "import matplotlib.pyplot as plt\n",
    "import seaborn as sns\n",
    "import numpy as np\n",
    "\n"
   ]
  },
  {
   "cell_type": "code",
   "execution_count": 2,
   "id": "6278d43b",
   "metadata": {},
   "outputs": [
    {
     "name": "stdout",
     "output_type": "stream",
     "text": [
      "Dataset shape: (9343, 9)\n",
      "Columns: ['SEQN', 'Cycle', 'RIAGENDR', 'RIDAGEYR', 'BMXBMI', 'BPXSY1', 'LBXGLU', 'LBXSCH', 'Log_UACR']\n"
     ]
    },
    {
     "data": {
      "text/html": [
       "<div>\n",
       "<style scoped>\n",
       "    .dataframe tbody tr th:only-of-type {\n",
       "        vertical-align: middle;\n",
       "    }\n",
       "\n",
       "    .dataframe tbody tr th {\n",
       "        vertical-align: top;\n",
       "    }\n",
       "\n",
       "    .dataframe thead th {\n",
       "        text-align: right;\n",
       "    }\n",
       "</style>\n",
       "<table border=\"1\" class=\"dataframe\">\n",
       "  <thead>\n",
       "    <tr style=\"text-align: right;\">\n",
       "      <th></th>\n",
       "      <th>SEQN</th>\n",
       "      <th>Cycle</th>\n",
       "      <th>RIAGENDR</th>\n",
       "      <th>RIDAGEYR</th>\n",
       "      <th>BMXBMI</th>\n",
       "      <th>BPXSY1</th>\n",
       "      <th>LBXGLU</th>\n",
       "      <th>LBXSCH</th>\n",
       "      <th>Log_UACR</th>\n",
       "    </tr>\n",
       "  </thead>\n",
       "  <tbody>\n",
       "    <tr>\n",
       "      <th>0</th>\n",
       "      <td>73559.0</td>\n",
       "      <td>2013-2014</td>\n",
       "      <td>1.0</td>\n",
       "      <td>72.0</td>\n",
       "      <td>28.9</td>\n",
       "      <td>140.0</td>\n",
       "      <td>193.0</td>\n",
       "      <td>127.0</td>\n",
       "      <td>2.354228</td>\n",
       "    </tr>\n",
       "    <tr>\n",
       "      <th>1</th>\n",
       "      <td>73561.0</td>\n",
       "      <td>2013-2014</td>\n",
       "      <td>2.0</td>\n",
       "      <td>73.0</td>\n",
       "      <td>19.7</td>\n",
       "      <td>136.0</td>\n",
       "      <td>107.0</td>\n",
       "      <td>207.0</td>\n",
       "      <td>5.156005</td>\n",
       "    </tr>\n",
       "    <tr>\n",
       "      <th>2</th>\n",
       "      <td>73564.0</td>\n",
       "      <td>2013-2014</td>\n",
       "      <td>2.0</td>\n",
       "      <td>61.0</td>\n",
       "      <td>35.7</td>\n",
       "      <td>118.0</td>\n",
       "      <td>110.0</td>\n",
       "      <td>167.0</td>\n",
       "      <td>2.060514</td>\n",
       "    </tr>\n",
       "    <tr>\n",
       "      <th>3</th>\n",
       "      <td>73581.0</td>\n",
       "      <td>2013-2014</td>\n",
       "      <td>1.0</td>\n",
       "      <td>50.0</td>\n",
       "      <td>23.6</td>\n",
       "      <td>138.0</td>\n",
       "      <td>110.0</td>\n",
       "      <td>203.0</td>\n",
       "      <td>1.599388</td>\n",
       "    </tr>\n",
       "    <tr>\n",
       "      <th>4</th>\n",
       "      <td>73596.0</td>\n",
       "      <td>2013-2014</td>\n",
       "      <td>2.0</td>\n",
       "      <td>57.0</td>\n",
       "      <td>38.3</td>\n",
       "      <td>128.0</td>\n",
       "      <td>107.0</td>\n",
       "      <td>150.0</td>\n",
       "      <td>2.797281</td>\n",
       "    </tr>\n",
       "  </tbody>\n",
       "</table>\n",
       "</div>"
      ],
      "text/plain": [
       "      SEQN      Cycle  RIAGENDR  RIDAGEYR  BMXBMI  BPXSY1  LBXGLU  LBXSCH  \\\n",
       "0  73559.0  2013-2014       1.0      72.0    28.9   140.0   193.0   127.0   \n",
       "1  73561.0  2013-2014       2.0      73.0    19.7   136.0   107.0   207.0   \n",
       "2  73564.0  2013-2014       2.0      61.0    35.7   118.0   110.0   167.0   \n",
       "3  73581.0  2013-2014       1.0      50.0    23.6   138.0   110.0   203.0   \n",
       "4  73596.0  2013-2014       2.0      57.0    38.3   128.0   107.0   150.0   \n",
       "\n",
       "   Log_UACR  \n",
       "0  2.354228  \n",
       "1  5.156005  \n",
       "2  2.060514  \n",
       "3  1.599388  \n",
       "4  2.797281  "
      ]
     },
     "execution_count": 2,
     "metadata": {},
     "output_type": "execute_result"
    }
   ],
   "source": [
    "# Load the filtered 9-column dataset\n",
    "file_path = 'master_dataset_all_cycles_complete.csv'\n",
    "df = pd.read_csv(file_path)\n",
    "print(f\"Dataset shape: {df.shape}\")\n",
    "print(f\"Columns: {list(df.columns)}\")\n",
    "df.head()"
   ]
  },
  {
   "cell_type": "code",
   "execution_count": 3,
   "id": "27af0a87",
   "metadata": {},
   "outputs": [
    {
     "name": "stdout",
     "output_type": "stream",
     "text": [
      "<class 'pandas.core.frame.DataFrame'>\n",
      "RangeIndex: 9343 entries, 0 to 9342\n",
      "Data columns (total 9 columns):\n",
      " #   Column    Non-Null Count  Dtype  \n",
      "---  ------    --------------  -----  \n",
      " 0   SEQN      9343 non-null   float64\n",
      " 1   Cycle     9343 non-null   object \n",
      " 2   RIAGENDR  9343 non-null   float64\n",
      " 3   RIDAGEYR  9343 non-null   float64\n",
      " 4   BMXBMI    9343 non-null   float64\n",
      " 5   BPXSY1    9343 non-null   float64\n",
      " 6   LBXGLU    9343 non-null   float64\n",
      " 7   LBXSCH    9343 non-null   float64\n",
      " 8   Log_UACR  9343 non-null   float64\n",
      "dtypes: float64(8), object(1)\n",
      "memory usage: 657.1+ KB\n"
     ]
    },
    {
     "data": {
      "text/html": [
       "<div>\n",
       "<style scoped>\n",
       "    .dataframe tbody tr th:only-of-type {\n",
       "        vertical-align: middle;\n",
       "    }\n",
       "\n",
       "    .dataframe tbody tr th {\n",
       "        vertical-align: top;\n",
       "    }\n",
       "\n",
       "    .dataframe thead th {\n",
       "        text-align: right;\n",
       "    }\n",
       "</style>\n",
       "<table border=\"1\" class=\"dataframe\">\n",
       "  <thead>\n",
       "    <tr style=\"text-align: right;\">\n",
       "      <th></th>\n",
       "      <th>count</th>\n",
       "      <th>mean</th>\n",
       "      <th>std</th>\n",
       "      <th>min</th>\n",
       "      <th>25%</th>\n",
       "      <th>50%</th>\n",
       "      <th>75%</th>\n",
       "      <th>max</th>\n",
       "    </tr>\n",
       "  </thead>\n",
       "  <tbody>\n",
       "    <tr>\n",
       "      <th>SEQN</th>\n",
       "      <td>9343.0</td>\n",
       "      <td>112832.428128</td>\n",
       "      <td>22933.534380</td>\n",
       "      <td>73559.000000</td>\n",
       "      <td>89827.000000</td>\n",
       "      <td>117599.00000</td>\n",
       "      <td>134563.500000</td>\n",
       "      <td>142309.000000</td>\n",
       "    </tr>\n",
       "    <tr>\n",
       "      <th>RIAGENDR</th>\n",
       "      <td>9343.0</td>\n",
       "      <td>1.531200</td>\n",
       "      <td>0.499052</td>\n",
       "      <td>1.000000</td>\n",
       "      <td>1.000000</td>\n",
       "      <td>2.00000</td>\n",
       "      <td>2.000000</td>\n",
       "      <td>2.000000</td>\n",
       "    </tr>\n",
       "    <tr>\n",
       "      <th>RIDAGEYR</th>\n",
       "      <td>9343.0</td>\n",
       "      <td>56.462485</td>\n",
       "      <td>14.595050</td>\n",
       "      <td>18.000000</td>\n",
       "      <td>47.000000</td>\n",
       "      <td>57.00000</td>\n",
       "      <td>67.000000</td>\n",
       "      <td>80.000000</td>\n",
       "    </tr>\n",
       "    <tr>\n",
       "      <th>BMXBMI</th>\n",
       "      <td>9343.0</td>\n",
       "      <td>29.724532</td>\n",
       "      <td>7.183501</td>\n",
       "      <td>11.100000</td>\n",
       "      <td>24.800000</td>\n",
       "      <td>28.60000</td>\n",
       "      <td>33.100000</td>\n",
       "      <td>82.900000</td>\n",
       "    </tr>\n",
       "    <tr>\n",
       "      <th>BPXSY1</th>\n",
       "      <td>9343.0</td>\n",
       "      <td>125.762389</td>\n",
       "      <td>18.738966</td>\n",
       "      <td>66.000000</td>\n",
       "      <td>113.000000</td>\n",
       "      <td>125.00000</td>\n",
       "      <td>135.000000</td>\n",
       "      <td>236.000000</td>\n",
       "    </tr>\n",
       "    <tr>\n",
       "      <th>LBXGLU</th>\n",
       "      <td>9343.0</td>\n",
       "      <td>113.567377</td>\n",
       "      <td>38.156658</td>\n",
       "      <td>21.000000</td>\n",
       "      <td>96.000000</td>\n",
       "      <td>104.00000</td>\n",
       "      <td>114.000000</td>\n",
       "      <td>561.000000</td>\n",
       "    </tr>\n",
       "    <tr>\n",
       "      <th>LBXSCH</th>\n",
       "      <td>9343.0</td>\n",
       "      <td>190.403725</td>\n",
       "      <td>41.998776</td>\n",
       "      <td>63.000000</td>\n",
       "      <td>164.000000</td>\n",
       "      <td>184.00000</td>\n",
       "      <td>215.000000</td>\n",
       "      <td>639.000000</td>\n",
       "    </tr>\n",
       "    <tr>\n",
       "      <th>Log_UACR</th>\n",
       "      <td>9343.0</td>\n",
       "      <td>2.358966</td>\n",
       "      <td>1.198502</td>\n",
       "      <td>-1.514128</td>\n",
       "      <td>1.656321</td>\n",
       "      <td>2.11505</td>\n",
       "      <td>2.741807</td>\n",
       "      <td>9.148971</td>\n",
       "    </tr>\n",
       "  </tbody>\n",
       "</table>\n",
       "</div>"
      ],
      "text/plain": [
       "           count           mean           std           min           25%  \\\n",
       "SEQN      9343.0  112832.428128  22933.534380  73559.000000  89827.000000   \n",
       "RIAGENDR  9343.0       1.531200      0.499052      1.000000      1.000000   \n",
       "RIDAGEYR  9343.0      56.462485     14.595050     18.000000     47.000000   \n",
       "BMXBMI    9343.0      29.724532      7.183501     11.100000     24.800000   \n",
       "BPXSY1    9343.0     125.762389     18.738966     66.000000    113.000000   \n",
       "LBXGLU    9343.0     113.567377     38.156658     21.000000     96.000000   \n",
       "LBXSCH    9343.0     190.403725     41.998776     63.000000    164.000000   \n",
       "Log_UACR  9343.0       2.358966      1.198502     -1.514128      1.656321   \n",
       "\n",
       "                   50%            75%            max  \n",
       "SEQN      117599.00000  134563.500000  142309.000000  \n",
       "RIAGENDR       2.00000       2.000000       2.000000  \n",
       "RIDAGEYR      57.00000      67.000000      80.000000  \n",
       "BMXBMI        28.60000      33.100000      82.900000  \n",
       "BPXSY1       125.00000     135.000000     236.000000  \n",
       "LBXGLU       104.00000     114.000000     561.000000  \n",
       "LBXSCH       184.00000     215.000000     639.000000  \n",
       "Log_UACR       2.11505       2.741807       9.148971  "
      ]
     },
     "execution_count": 3,
     "metadata": {},
     "output_type": "execute_result"
    }
   ],
   "source": [
    "df.info()\n",
    "\n",
    "df.describe().T\n",
    "\n"
   ]
  },
  {
   "cell_type": "code",
   "execution_count": 4,
   "id": "d1a7af7e",
   "metadata": {},
   "outputs": [
    {
     "data": {
      "text/plain": [
       "(9343, 9)"
      ]
     },
     "execution_count": 4,
     "metadata": {},
     "output_type": "execute_result"
    }
   ],
   "source": [
    "df.shape"
   ]
  },
  {
   "cell_type": "code",
   "execution_count": 5,
   "id": "8c899d80",
   "metadata": {},
   "outputs": [
    {
     "data": {
      "text/plain": [
       "SEQN        9343\n",
       "Cycle          5\n",
       "RIAGENDR       2\n",
       "RIDAGEYR      63\n",
       "BMXBMI       429\n",
       "BPXSY1       144\n",
       "LBXGLU       294\n",
       "LBXSCH       280\n",
       "Log_UACR    3152\n",
       "dtype: int64"
      ]
     },
     "execution_count": 5,
     "metadata": {},
     "output_type": "execute_result"
    }
   ],
   "source": [
    "df.nunique()"
   ]
  },
  {
   "cell_type": "markdown",
   "id": "22c6be40",
   "metadata": {},
   "source": [
    "### Data Cleaning\n"
   ]
  },
  {
   "cell_type": "code",
   "execution_count": 6,
   "id": "3d719793",
   "metadata": {},
   "outputs": [
    {
     "name": "stdout",
     "output_type": "stream",
     "text": [
      "Before cleaning:\n",
      "Total rows: 9,343\n",
      "Cycles: Cycle\n",
      "2013-2014    1816\n",
      "2015-2016     851\n",
      "2017-2018     806\n",
      "2017-2020    2308\n",
      "2021-2022    3562\n",
      "Name: count, dtype: int64\n",
      "\n",
      "After dropping nulls only for essential columns:\n",
      "Total rows: 9,343\n",
      "Cycles: Cycle\n",
      "2013-2014    1816\n",
      "2015-2016     851\n",
      "2017-2018     806\n",
      "2017-2020    2308\n",
      "2021-2022    3562\n",
      "Name: count, dtype: int64\n",
      "\n",
      "Missing values per column:\n",
      "SEQN        0\n",
      "Cycle       0\n",
      "RIAGENDR    0\n",
      "RIDAGEYR    0\n",
      "BMXBMI      0\n",
      "BPXSY1      0\n",
      "LBXGLU      0\n",
      "LBXSCH      0\n",
      "Log_UACR    0\n",
      "dtype: int64\n"
     ]
    }
   ],
   "source": [
    "# BETTER APPROACH: Only drop nulls for essential columns\n",
    "# This keeps more data from all cycles!\n",
    "\n",
    "# Option 1: Don't drop nulls at all - work with the data as-is\n",
    "print(\"Before cleaning:\")\n",
    "print(f\"Total rows: {len(df):,}\")\n",
    "print(f\"Cycles: {df['Cycle'].value_counts().sort_index()}\")\n",
    "\n",
    "# Option 2: Only drop rows where essential columns are missing\n",
    "essential_columns = ['SEQN', 'Cycle', 'RIAGENDR', 'RIDAGEYR']\n",
    "df_clean = df.dropna(subset=essential_columns)\n",
    "\n",
    "print(\"\\nAfter dropping nulls only for essential columns:\")\n",
    "print(f\"Total rows: {len(df_clean):,}\")\n",
    "print(f\"Cycles: {df_clean['Cycle'].value_counts().sort_index()}\")\n",
    "\n",
    "# Use df_clean for analysis instead of df\n",
    "df = df_clean.copy()\n",
    "\n",
    "print(\"\\nMissing values per column:\")\n",
    "print(df.isna().sum())"
   ]
  },
  {
   "cell_type": "code",
   "execution_count": 7,
   "id": "a542d5cc",
   "metadata": {},
   "outputs": [
    {
     "data": {
      "text/plain": [
       "np.int64(0)"
      ]
     },
     "execution_count": 7,
     "metadata": {},
     "output_type": "execute_result"
    }
   ],
   "source": [
    "df.duplicated().sum()"
   ]
  },
  {
   "cell_type": "code",
   "execution_count": 8,
   "id": "726fa794",
   "metadata": {},
   "outputs": [
    {
     "data": {
      "image/png": "[encoded data removed]",
      "text/plain": [
       "<Figure size 800x600 with 1 Axes>"
      ]
     },
     "metadata": {},
     "output_type": "display_data"
    },
    {
     "data": {
      "image/png": "[encoded data removed]",
      "text/plain": [
       "<Figure size 800x600 with 1 Axes>"
      ]
     },
     "metadata": {},
     "output_type": "display_data"
    },
    {
     "name": "stderr",
     "output_type": "stream",
     "text": [
      "C:\\Users\\dell\\AppData\\Local\\Temp\\ipykernel_82928\\1226671558.py:31: FutureWarning: \n",
      "\n",
      "Passing `palette` without assigning `hue` is deprecated and will be removed in v0.14.0. Assign the `y` variable to `hue` and set `legend=False` for the same effect.\n",
      "\n",
      "  sns.countplot(y='Cycle', data=df, order=cycle_order, palette='viridis')\n"
     ]
    },
    {
     "data": {
      "image/png": "[encoded data removed]",
      "text/plain": [
       "<Figure size 1200x600 with 1 Axes>"
      ]
     },
     "metadata": {},
     "output_type": "display_data"
    },
    {
     "name": "stdout",
     "output_type": "stream",
     "text": [
      "\n",
      "============================================================\n",
      "DATA SUMMARY BY CYCLE\n",
      "============================================================\n",
      "\n",
      "2013-2014:\n",
      "  Total rows: 1,816\n",
      "  Unique participants: 1,816\n",
      "\n",
      "2015-2016:\n",
      "  Total rows: 851\n",
      "  Unique participants: 851\n",
      "\n",
      "2017-2018:\n",
      "  Total rows: 806\n",
      "  Unique participants: 806\n",
      "\n",
      "2017-2020:\n",
      "  Total rows: 2,308\n",
      "  Unique participants: 2,308\n",
      "\n",
      "2021-2022:\n",
      "  Total rows: 3,562\n",
      "  Unique participants: 3,562\n"
     ]
    }
   ],
   "source": [
    "# Convert 'Cycle' to string for proper categorical treatment\n",
    "df['Cycle'] = df['Cycle'].astype(str)\n",
    "\n",
    "# --- Histogram for Age (Numerical Variable) ---\n",
    "age_column = 'RIDAGEYR'\n",
    "plt.figure(figsize=(8, 6))\n",
    "sns.histplot(df[age_column].dropna(), bins=30, kde=True, color='steelblue')\n",
    "plt.title(f'Distribution of {age_column} (Age in Years)', fontsize=14, fontweight='bold')\n",
    "plt.xlabel('Age in Years', fontsize=12)\n",
    "plt.ylabel('Frequency', fontsize=12)\n",
    "plt.grid(axis='y', alpha=0.5)\n",
    "plt.tight_layout()\n",
    "plt.show()\n",
    "\n",
    "# --- Count Plot for Gender (Categorical Variable) ---\n",
    "gender_column = 'RIAGENDR'\n",
    "# 1=Male, 2=Female (based on standard NHANES documentation)\n",
    "plt.figure(figsize=(8, 6))\n",
    "gender_counts = df[gender_column].dropna().value_counts()\n",
    "plt.bar(['Male', 'Female'], [gender_counts.get(1.0, 0), gender_counts.get(2.0, 0)], color=['steelblue', 'coral'])\n",
    "plt.title(f'Count of {gender_column} (Gender)', fontsize=14, fontweight='bold')\n",
    "plt.xlabel('Gender', fontsize=12)\n",
    "plt.ylabel('Count', fontsize=12)\n",
    "plt.grid(axis='y', alpha=0.5)\n",
    "plt.tight_layout()\n",
    "plt.show()\n",
    "\n",
    "# --- Count Plot for Survey Cycle (ALL CYCLES) ---\n",
    "plt.figure(figsize=(12, 6))\n",
    "cycle_order = sorted(df['Cycle'].dropna().unique())\n",
    "sns.countplot(y='Cycle', data=df, order=cycle_order, palette='viridis')\n",
    "plt.title('Count of Observations per Survey Cycle (All Cycles)', fontsize=14, fontweight='bold')\n",
    "plt.xlabel('Count', fontsize=12)\n",
    "plt.ylabel('Survey Cycle', fontsize=12)\n",
    "plt.grid(axis='x', alpha=0.5)\n",
    "\n",
    "# Add count labels on bars\n",
    "for i, cycle in enumerate(cycle_order):\n",
    "    count = len(df[df['Cycle'] == cycle])\n",
    "    plt.text(count, i, f' {count:,}', va='center', fontsize=10)\n",
    "\n",
    "plt.tight_layout()\n",
    "plt.show()\n",
    "\n",
    "# Print summary\n",
    "print(\"\\n\" + \"=\"*60)\n",
    "print(\"DATA SUMMARY BY CYCLE\")\n",
    "print(\"=\"*60)\n",
    "for cycle in cycle_order:\n",
    "    cycle_data = df[df['Cycle'] == cycle]\n",
    "    print(f\"\\n{cycle}:\")\n",
    "    print(f\"  Total rows: {len(cycle_data):,}\")\n",
    "    print(f\"  Unique participants: {cycle_data['SEQN'].nunique():,}\")"
   ]
  },
  {
   "cell_type": "code",
   "execution_count": 9,
   "id": "a746ef6d",
   "metadata": {},
   "outputs": [],
   "source": [
    "df['UACR_Raw'] = np.exp(df['Log_UACR'])\n"
   ]
  }
 ],
 "metadata": {
  "kernelspec": {
   "display_name": "Python 3",
   "language": "python",
   "name": "python3"
  },
  "language_info": {
   "codemirror_mode": {
    "name": "ipython",
    "version": 3
   },
   "file_extension": ".py",
   "mimetype": "text/x-python",
   "name": "python",
   "nbconvert_exporter": "python",
   "pygments_lexer": "ipython3",
   "version": "3.13.5"
  }
 },
 "nbformat": 4,
 "nbformat_minor": 5
}
